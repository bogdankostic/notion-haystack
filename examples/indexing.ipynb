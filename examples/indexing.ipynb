{
 "cells": [
  {
   "cell_type": "markdown",
   "metadata": {},
   "source": [
    "# Minimal indexing Pipeline\n",
    "\n",
    "In this example, we are creating a very minimal indexing pipeline which uses `notion-haystack` to get Notion pages and write them to a document store.\n",
    "\n",
    "_We are using `nest_asyncio` below because notion exporter makes use of asyncio, which causes issues with async jobs running in colab._"
   ]
  },
  {
   "cell_type": "code",
   "execution_count": null,
   "metadata": {},
   "outputs": [],
   "source": [
    "!pip install nest-asyncio\n",
    "\n",
    "import nest_asyncio\n",
    "\n",
    "nest_asyncio.apply()"
   ]
  },
  {
   "cell_type": "code",
   "execution_count": 2,
   "metadata": {},
   "outputs": [],
   "source": [
    "import getpass\n",
    "\n",
    "notion_api_key = getpass.getpass(\"Enter Notion API key:\")"
   ]
  },
  {
   "cell_type": "code",
   "execution_count": null,
   "metadata": {},
   "outputs": [],
   "source": [
    "# This is a minimal example that exports Notion pages to Haystack Documents.\n",
    "\n",
    "from notion_haystack import NotionExporter\n",
    "\n",
    "exporter = NotionExporter(api_token=notion_api_key)\n",
    "exported_pages = exporter.run(page_ids=[\"your_page_id\"])"
   ]
  },
  {
   "cell_type": "code",
   "execution_count": 4,
   "metadata": {},
   "outputs": [],
   "source": [
    "# This is a minimal example that exports Notion pages to Haystack Documents and writes them to a document store.\n",
    "\n",
    "from haystack import Pipeline\n",
    "\n",
    "from notion_haystack import NotionExporter\n",
    "from haystack.components.preprocessors import DocumentSplitter\n",
    "from haystack.components.writers import DocumentWriter\n",
    "from haystack.document_stores import InMemoryDocumentStore\n",
    "\n",
    "document_store = InMemoryDocumentStore()\n",
    "exporter = NotionExporter(api_token=notion_api_key)\n",
    "splitter = DocumentSplitter()\n",
    "writer = DocumentWriter(document_store=document_store)\n",
    "\n",
    "indexing_pipeline = Pipeline()\n",
    "indexing_pipeline.add_component(instance=exporter, name=\"exporter\")\n",
    "indexing_pipeline.add_component(instance=splitter, name=\"splitter\")\n",
    "indexing_pipeline.add_component(instance=writer, name=\"writer\")\n",
    "\n",
    "indexing_pipeline.connect(\"exporter.documents\", \"splitter.documents\")\n",
    "indexing_pipeline.connect(\"splitter\", \"writer\")"
   ]
  },
  {
   "cell_type": "code",
   "execution_count": null,
   "metadata": {},
   "outputs": [],
   "source": [
    "indexing_pipeline.run(data={\"exporter\": {\"page_ids\": [\"your_page_id\"] }})"
   ]
  }
 ],
 "metadata": {
  "kernelspec": {
   "display_name": "notion-exporter",
   "language": "python",
   "name": "python3"
  },
  "language_info": {
   "codemirror_mode": {
    "name": "ipython",
    "version": 3
   },
   "file_extension": ".py",
   "mimetype": "text/x-python",
   "name": "python",
   "nbconvert_exporter": "python",
   "pygments_lexer": "ipython3",
   "version": "3.11.5"
  }
 },
 "nbformat": 4,
 "nbformat_minor": 2
}
